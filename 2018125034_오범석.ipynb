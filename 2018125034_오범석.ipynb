{
 "cells": [
  {
   "cell_type": "markdown",
   "id": "187bc05b",
   "metadata": {},
   "source": [
    "# EXCEL로 만든 인공신경망을 pytorch의 Tensor 클래스을 이용하여 만들기"
   ]
  },
  {
   "cell_type": "code",
   "execution_count": 1,
   "id": "40b1557a",
   "metadata": {},
   "outputs": [],
   "source": [
    "import torch"
   ]
  },
  {
   "cell_type": "markdown",
   "id": "52dacaad",
   "metadata": {},
   "source": [
    "필요한 함수의 정의하기"
   ]
  },
  {
   "cell_type": "code",
   "execution_count": 11,
   "id": "c53c8aba",
   "metadata": {},
   "outputs": [],
   "source": [
    "def ReLU_func(outputs):\n",
    "    #final_outputs=max(0,outputs)\n",
    "    ReLU = torch.nn.ReLU()\n",
    "    final_outputs = ReLU(outputs)\n",
    "    return final_outputs\n",
    "\n",
    "def softmax(outputs):\n",
    "    # 채우기\n",
    "    sm = torch.nn.Softmax(dim=-1) # 각 sample에 대해서 Softmax 하려면 dim = 1\n",
    "    softmax = sm(outputs)\n",
    "    return softmax\n",
    "\n",
    "#def cross_entropy(outputs, labels):\n",
    "#    cel = torch.nn.CrossEntropyLoss(reduction='none')\n",
    "#   return cel(outputs, labels)\n",
    "\n",
    "def cross_entropy(outputs, labels): \n",
    "    return -torch.sum((labels * torch.log(outputs)),dim=1)\n"
   ]
  },
  {
   "cell_type": "markdown",
   "id": "8bb50e1f",
   "metadata": {},
   "source": [
    "Weight 값 설정하기"
   ]
  },
  {
   "cell_type": "code",
   "execution_count": 12,
   "id": "41143ded",
   "metadata": {},
   "outputs": [],
   "source": [
    "w_ih = torch.Tensor([[1,-2,3],[-2,5,3]])\n",
    "w_ho = torch.Tensor([[3,-2,4],[-1,2,3],[2,-2,-4]])"
   ]
  },
  {
   "cell_type": "markdown",
   "id": "1d9997f9",
   "metadata": {},
   "source": [
    "Batch 가 3인 Input 값과 Labels 값의 입력하기"
   ]
  },
  {
   "cell_type": "code",
   "execution_count": 13,
   "id": "a572aa07",
   "metadata": {},
   "outputs": [],
   "source": [
    "input = torch.Tensor([[2,-4],[0,3],[-6,2]])\n",
    "labels = torch.Tensor([[1,0,0],[0,1,0],[0,0,1]])"
   ]
  },
  {
   "cell_type": "markdown",
   "id": "2bef726d",
   "metadata": {},
   "source": [
    "L1의 활성화 함수 전의 값 구하기"
   ]
  },
  {
   "cell_type": "code",
   "execution_count": 14,
   "id": "bf59a79f",
   "metadata": {},
   "outputs": [
    {
     "name": "stdout",
     "output_type": "stream",
     "text": [
      "tensor([[ 10., -24.,  -6.],\n",
      "        [ -6.,  15.,   9.],\n",
      "        [-10.,  22., -12.]])\n"
     ]
    }
   ],
   "source": [
    "L1 = torch.mm(input,w_ih) # 채우기\n",
    "print(L1)"
   ]
  },
  {
   "cell_type": "markdown",
   "id": "f8de5cb0",
   "metadata": {},
   "source": [
    "ReLU의 적용하기"
   ]
  },
  {
   "cell_type": "code",
   "execution_count": 15,
   "id": "b8c2c44f",
   "metadata": {},
   "outputs": [
    {
     "name": "stdout",
     "output_type": "stream",
     "text": [
      "tensor([[10.,  0.,  0.],\n",
      "        [ 0., 15.,  9.],\n",
      "        [ 0., 22.,  0.]])\n"
     ]
    }
   ],
   "source": [
    "L1 = ReLU_func(L1)# 채우기\n",
    "print(L1)"
   ]
  },
  {
   "cell_type": "markdown",
   "id": "f9e9b42c",
   "metadata": {},
   "source": [
    "Output 구하기"
   ]
  },
  {
   "cell_type": "code",
   "execution_count": 16,
   "id": "72dc0d6c",
   "metadata": {},
   "outputs": [
    {
     "name": "stdout",
     "output_type": "stream",
     "text": [
      "tensor([[ 30., -20.,  40.],\n",
      "        [  3.,  12.,   9.],\n",
      "        [-22.,  44.,  66.]])\n"
     ]
    }
   ],
   "source": [
    "outputs = torch.mm(L1,w_ho)# 채우기\n",
    "print(outputs)"
   ]
  },
  {
   "cell_type": "markdown",
   "id": "86e4c95f",
   "metadata": {},
   "source": [
    "Softmax의 적용"
   ]
  },
  {
   "cell_type": "code",
   "execution_count": 17,
   "id": "d4f97dde",
   "metadata": {},
   "outputs": [
    {
     "name": "stdout",
     "output_type": "stream",
     "text": [
      "tensor([[4.5398e-05, 8.7561e-27, 9.9995e-01],\n",
      "        [1.1754e-04, 9.5246e-01, 4.7420e-02],\n",
      "        [6.0546e-39, 2.7895e-10, 1.0000e+00]])\n"
     ]
    }
   ],
   "source": [
    "so = softmax(outputs)\n",
    "print(so)"
   ]
  },
  {
   "cell_type": "markdown",
   "id": "a2131903",
   "metadata": {},
   "source": [
    "sample별로 loss 구하기"
   ]
  },
  {
   "cell_type": "code",
   "execution_count": 18,
   "id": "e08c9c96",
   "metadata": {},
   "outputs": [
    {
     "name": "stdout",
     "output_type": "stream",
     "text": [
      "tensor([10.0000,  0.0487, -0.0000])\n"
     ]
    }
   ],
   "source": [
    "loss = cross_entropy(so,labels)\n",
    "print(loss)"
   ]
  },
  {
   "cell_type": "markdown",
   "id": "8cd0b2cf",
   "metadata": {},
   "source": [
    "최종 loss 구하기"
   ]
  },
  {
   "cell_type": "code",
   "execution_count": 19,
   "id": "36fe5758",
   "metadata": {},
   "outputs": [
    {
     "name": "stdout",
     "output_type": "stream",
     "text": [
      "tensor(3.3496)\n"
     ]
    }
   ],
   "source": [
    "loss = torch.sum(loss) / input.size()[0] # 채우기\n",
    "print(loss)"
   ]
  },
  {
   "cell_type": "markdown",
   "id": "eb21e73c",
   "metadata": {},
   "source": [
    "## EXCEL과 같은 답이 나오는가?"
   ]
  },
  {
   "cell_type": "markdown",
   "id": "893cd1b6",
   "metadata": {},
   "source": [
    " #### 아니면 이유가 무엇인가? \n"
   ]
  },
  {
   "cell_type": "markdown",
   "id": "d0698009",
   "metadata": {},
   "source": [
    "EXCEL과 다른 답이 나온다고 생각한다.\n",
    "\n",
    "엑셀을 만드는 과정에서 정답이 (0,0,1)이고, 입력이 (-6,2)일 때 softmax layer의 3번째 노드의 값은\n",
    "EXP(G7) / (EXP(G5) + EXP(G6) + EXP(G7) 이고, 이는 엑셀 상에서 1이라고 표현되는 것을 확인했다.\n",
    "하지만 이를 다시 엑셀의 LN 함수를 취하면, 0이 아닌 다른 값이 나왔다. LN(1)은 0이어야 한다.\n",
    "\n",
    "주피터 노트북에서는 0.000이라는 값이 나온 것을 확인할 수 있다. 소수점 1000자리까지 확인해도 0.0000...이다.\n",
    "\n",
    "수많은 검색 끝에 내린 결론은, 컴퓨터에서 매우 큰 수와 매우 작은 수의 표현과 부동소수점 표현의 부정확함 때문이라고 생각한다.\n",
    "실제로 소수점 자리를 30자리까지 늘려보니 1이었던 숫자가 0.9999999999721053으로 바뀌는 것을 확인할 수 있었다.\n",
    "\n",
    "마이크로소프트 trouble shooting 정보 : (https://learn.microsoft.com/ko-kr/office/troubleshoot/excel/floating-point-arithmetic-inaccurate-result)\n",
    "\n",
    "이러한 이유로, 엑셀에서 3번째 샘플은 e를 포함한 값으로 나오고, 파이썬은 이를 반올림하여 나타낸다.\n",
    "\n",
    "때문에 엑셀과 주피터 노트북 파일은 서로 다른 답이 나온다고 생각한다."
   ]
  }
 ],
 "metadata": {
  "kernelspec": {
   "display_name": "Python 3 (ipykernel)",
   "language": "python",
   "name": "python3"
  },
  "language_info": {
   "codemirror_mode": {
    "name": "ipython",
    "version": 3
   },
   "file_extension": ".py",
   "mimetype": "text/x-python",
   "name": "python",
   "nbconvert_exporter": "python",
   "pygments_lexer": "ipython3",
   "version": "3.7.16"
  }
 },
 "nbformat": 4,
 "nbformat_minor": 5
}
