{
 "cells": [
  {
   "cell_type": "markdown",
   "id": "3d61d4f1",
   "metadata": {},
   "source": [
    "# 인공신경망의 Back-propagation 을 해봅시다\n",
    "\n",
    "이번 과제의 목표는 Back-propagation 을 계산하고 이를 torch의 자동 미분과 비교하여 맞는지 확인하는 것입니다. "
   ]
  },
  {
   "cell_type": "markdown",
   "id": "419746f3",
   "metadata": {},
   "source": [
    "## 1) 필수 라이브러리와 함수를 불러 옵니다."
   ]
  },
  {
   "cell_type": "code",
   "execution_count": 2,
   "id": "f4cdaf0e",
   "metadata": {},
   "outputs": [],
   "source": [
    "import torch\n",
    "import numpy as np"
   ]
  },
  {
   "cell_type": "code",
   "execution_count": 3,
   "id": "118d75b2",
   "metadata": {},
   "outputs": [],
   "source": [
    "def ReLU_func(outputs):\n",
    "    zero_tensor = torch.zeros(outputs.size())\n",
    "    final_outputs = torch.maximum(outputs,zero_tensor)\n",
    "\n",
    "    return final_outputs\n",
    "\n",
    "def softmax(outputs):\n",
    "    numerator = torch.exp(outputs - torch.max(outputs,axis=1)[0].view(-1,1))\n",
    "    denominator = torch.sum(numerator, axis=1).view(-1,1)\n",
    "    softmax = numerator/denominator\n",
    "    \n",
    "    #softmax = torch.nn.softmax(outputs)\n",
    "    \n",
    "    return softmax\n",
    "\n",
    "def cross_entropy(outputs, labels):\n",
    "    return torch.sum(-1*labels*torch.log(outputs),axis=1)"
   ]
  },
  {
   "cell_type": "markdown",
   "id": "e76bc787",
   "metadata": {},
   "source": [
    "## 2) 인공신경망 계산을 합니다. \n",
    "\n",
    "입력은 [4,1], Label은 [0,1], W_0 은 $\\pmatrix{1,-2 \\\\ 2,5}$, W_1은  $\\pmatrix{3,-3 \\\\ -1,1}$ 로 주어졌을 때\n",
    "\n",
    "각 단계를 h, L, O, s, l 를 각각 역치 전 값, 히든 레이어 값, 출력값, 소프트맥스 후, loss로 하여 계산합니다.\n",
    "각 값은 torch.tensor 클래스의 객체로 만들어 자동미분이 가능하게 만드세요."
   ]
  },
  {
   "cell_type": "code",
   "execution_count": 4,
   "id": "65948804",
   "metadata": {},
   "outputs": [
    {
     "name": "stdout",
     "output_type": "stream",
     "text": [
      "torch.Size([1, 2])\n"
     ]
    }
   ],
   "source": [
    "I = torch.Tensor([[4,1]])# 채워넣으시오\n",
    "label = torch.Tensor([[0,1]])  # 채워넣으시오\n",
    "W_0 = torch.Tensor([[1,-2],\n",
    "                    [2,5]]).requires_grad_(True) # 채워넣으시오\n",
    "W_1 = torch.Tensor([[3,-3],[-1,1]]).requires_grad_(True) # 채워넣으시오"
   ]
  },
  {
   "cell_type": "code",
   "execution_count": 4,
   "id": "e6298740",
   "metadata": {},
   "outputs": [
    {
     "name": "stdout",
     "output_type": "stream",
     "text": [
      "tensor([[ 6., -3.]], grad_fn=<MmBackward0>)\n",
      "tensor([[6., 0.]], grad_fn=<MaximumBackward0>)\n",
      "tensor([[ 18., -18.]], grad_fn=<MmBackward0>)\n",
      "tensor([[1.0000e+00, 2.3195e-16]], grad_fn=<DivBackward0>)\n"
     ]
    }
   ],
   "source": [
    "h = torch.mm(I,W_0) # 채워넣으시오\n",
    "print(h)\n",
    "L = ReLU_func(h) # 채워넣으시오\n",
    "print(L)\n",
    "O = torch.mm(L,W_1) # 채워넣으시오\n",
    "print(O)\n",
    "s = softmax(O) # 채워넣으시오\n",
    "print(s)\n",
    "l = cross_entropy(s,label) # 채워넣으시오"
   ]
  },
  {
   "cell_type": "code",
   "execution_count": 5,
   "id": "b7f76753",
   "metadata": {},
   "outputs": [
    {
     "name": "stdout",
     "output_type": "stream",
     "text": [
      "tensor([36.], grad_fn=<SumBackward1>)\n"
     ]
    }
   ],
   "source": [
    "print(l)"
   ]
  },
  {
   "cell_type": "code",
   "execution_count": 6,
   "id": "c4ddbbee",
   "metadata": {},
   "outputs": [],
   "source": [
    "l.backward()"
   ]
  },
  {
   "cell_type": "markdown",
   "id": "9bce7932",
   "metadata": {},
   "source": [
    "## 3) $\\nabla_{W_0}l$ 계산하기\n",
    "\n",
    "위에서 주어진 h, L, O, s, l을 이용하여 $\\nabla_{W_1}l$를 계산해봅시다. \n",
    "\n",
    "numpy를 이용하여 계산하세요!\n",
    "\n",
    "참고로 \n",
    "\n",
    " $$\\nabla_s l = \\pmatrix{-\\frac{label_0}{s_0}, -\\frac{label_1}{s_1} } $$\n",
    " $$ \\nabla_o s = \\pmatrix{s_0(1-s_0), -s_0s_1 \\\\ -s_1s_0, s_1(1-s_1) }$$\n",
    " $$ \\nabla_{w_1} o = \\pmatrix{L_0,0,L_1,0 \\\\ 0, L_0, 0, L_1 }$$"
   ]
  },
  {
   "cell_type": "code",
   "execution_count": 8,
   "id": "5ee0db13",
   "metadata": {},
   "outputs": [],
   "source": [
    "s_l = np.array([0, -1/s[0][1].item()]) # 채워넣으시오\n",
    "o_s=np.array([[0,-s[0][0].item()*s[0][1].item()] ,[-s[0][1].item()*s[0][0].item(), s[0][1].item()*(1-s[0][1].item())]]) # 채워넣으시오\n",
    "w1_o= np.array([ [6.,0.,0.,0.], [0.,6.,0.,0.] ]) # 채워넣으시오 "
   ]
  },
  {
   "cell_type": "code",
   "execution_count": 9,
   "id": "adae2c20",
   "metadata": {},
   "outputs": [
    {
     "name": "stdout",
     "output_type": "stream",
     "text": [
      "[ 6. -6.  0.  0.]\n"
     ]
    }
   ],
   "source": [
    "w1_l = (s_l@(o_s))@(w1_o)# 채워넣으시오\n",
    "print(w1_l)"
   ]
  },
  {
   "cell_type": "markdown",
   "id": "8e15da6d",
   "metadata": {},
   "source": [
    "자동 미분 결과와 비교해 봅시다."
   ]
  },
  {
   "cell_type": "code",
   "execution_count": 10,
   "id": "7db40016",
   "metadata": {},
   "outputs": [
    {
     "data": {
      "text/plain": [
       "tensor([[ 6., -6.],\n",
       "        [ 0., -0.]])"
      ]
     },
     "execution_count": 10,
     "metadata": {},
     "output_type": "execute_result"
    }
   ],
   "source": [
    "W_1.grad # 채워넣으시오"
   ]
  },
  {
   "cell_type": "markdown",
   "id": "a8fb7993",
   "metadata": {},
   "source": [
    "자동 미분 결과와 비교해보고 차이점이 무엇인지 그리고 왜 그런 결과가 생겼는지 서술하시오."
   ]
  },
  {
   "cell_type": "markdown",
   "id": "a08a922a",
   "metadata": {},
   "source": [
    "정답) numpy로 계산한 결과는 벡터와 자동미분한 결과는 매트릭스로 결과가 나왔다. numpy로 계산한 결과는 w1_o의 정의에 따라 벡터로 출력되며, 자동 미분은 입력의 차원으로 계산되기 때문이다."
   ]
  },
  {
   "cell_type": "markdown",
   "id": "637ccfab",
   "metadata": {},
   "source": [
    "## 4) $\\nabla_{w_0} l $ 계산하기\n",
    "\n",
    "위에서 주어진 h, L, O, s, l을 이용하여 $\\nabla_{W_0}l$를 계산해봅시다. \n",
    "\n",
    "numpy를 이용하여 계산하세요!\n",
    "\n",
    "참고로 \n",
    "\n",
    " $$\\nabla_L o = W_1^T $$\n",
    " $$ \\nabla_h L = \\pmatrix{1 or 0, 0 \\\\ 0, 1 or 0 }$$\n",
    " $$ \\nabla_{w_0} h = \\pmatrix{I_0,0,I_1,0 \\\\ 0, I_0, 0, I_1 }$$"
   ]
  },
  {
   "cell_type": "code",
   "execution_count": 11,
   "id": "ca368948",
   "metadata": {},
   "outputs": [],
   "source": [
    "L_o = np.array([ [3,-1],[-3,1] ]) # 채워넣으시오\n",
    "h_L = np.array([ [1,0],[0,0] ])# 채워넣으시오\n",
    "w0_h = np.array([ [4,0,1,0], [0,4,0,1] ])# 채워넣으시오"
   ]
  },
  {
   "cell_type": "code",
   "execution_count": 12,
   "id": "0f222922",
   "metadata": {},
   "outputs": [
    {
     "name": "stdout",
     "output_type": "stream",
     "text": [
      "[24.  0.  6.  0.]\n"
     ]
    }
   ],
   "source": [
    "w0_l = s_l@o_s@L_o@(h_L)@(w0_h) # 채워넣으시오\n",
    "print(w0_l)"
   ]
  },
  {
   "cell_type": "markdown",
   "id": "72876cd3",
   "metadata": {},
   "source": [
    "자동미분과 비교해봅시다."
   ]
  },
  {
   "cell_type": "code",
   "execution_count": 13,
   "id": "fa8a52d6",
   "metadata": {},
   "outputs": [
    {
     "data": {
      "text/plain": [
       "tensor([[24.,  0.],\n",
       "        [ 6.,  0.]])"
      ]
     },
     "execution_count": 13,
     "metadata": {},
     "output_type": "execute_result"
    }
   ],
   "source": [
    "W_0.grad # 채워넣으시오"
   ]
  }
 ],
 "metadata": {
  "kernelspec": {
   "display_name": "Python 3 (ipykernel)",
   "language": "python",
   "name": "python3"
  },
  "language_info": {
   "codemirror_mode": {
    "name": "ipython",
    "version": 3
   },
   "file_extension": ".py",
   "mimetype": "text/x-python",
   "name": "python",
   "nbconvert_exporter": "python",
   "pygments_lexer": "ipython3",
   "version": "3.7.16"
  }
 },
 "nbformat": 4,
 "nbformat_minor": 5
}
