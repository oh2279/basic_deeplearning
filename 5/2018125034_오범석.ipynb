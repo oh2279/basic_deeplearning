{
 "cells": [
  {
   "cell_type": "markdown",
   "id": "a8f145f6",
   "metadata": {},
   "source": [
    "# 강의 5 - Back-propagation 첫번째\n",
    "\n",
    "이번 강의는 실질적인 Back-propagation을 하기 전에 이론적으로 Chaine Rule을 적용하는지 배웠습니다.\n",
    "이를 바탕으로 수식으로 배운 것을 복습해봅시다."
   ]
  },
  {
   "cell_type": "markdown",
   "id": "0f0fe6b1",
   "metadata": {},
   "source": [
    "## 1) 주피터 노트북에서 수식 사용하기\n",
    "이번 과제는 주피터 노트북에 수식을 입력해야 합니다. 기초적인 수식 입력 방법에 대해서 알아봅시다."
   ]
  },
  {
   "cell_type": "markdown",
   "id": "7f3fdfbf",
   "metadata": {},
   "source": [
    "### ㄱ. 마법의 $\\$$ 표시\n",
    "\n",
    "주피터 노트북에서 2개의 $\\$$ 사이에 수식을 입력합니다. \n",
    "$\\$$ f(x) = 2x $\\$$를 입력해봅시다."
   ]
  },
  {
   "cell_type": "markdown",
   "id": "69eacdc3",
   "metadata": {},
   "source": [
    "정답) $ f(x) = 2x $"
   ]
  },
  {
   "cell_type": "markdown",
   "id": "6199b7b0",
   "metadata": {},
   "source": [
    "### ㄴ. 각종 Symbol들\n",
    "\n",
    "다음과 같은 symbol를 이용할 수 있습니다. \n",
    "\n",
    "$$ \\cdot, \\alpha, \\beta, \\sum, \\Delta $$\n",
    "\n",
    "이와의 여러가지 기호들을 latex symbols라고 찾으면 됩니다. Gradient와 Jacobain 상징인 기호를 찾아봅시다"
   ]
  },
  {
   "cell_type": "markdown",
   "id": "d9d3ebec",
   "metadata": {},
   "source": [
    "정답) $ \\nabla $"
   ]
  },
  {
   "cell_type": "markdown",
   "id": "0ca65dce",
   "metadata": {},
   "source": [
    "### ㄷ. 위첨자와 아래 첨자\n",
    "위 첨자는 ^ 기호로 아래 첨자는 _ 기호로 만들 수 있습니다. \n",
    "\n",
    "1.$x$ 의 2승 표시를 해봅시다. \n",
    "\n",
    "2.더불어 첨자가 2개 이상인 경우에는 어떻게 할 수 있는지 찾아봅시다. 즉 $e$ 의 $i \\cdot \\theta$승을 해봅시다"
   ]
  },
  {
   "cell_type": "markdown",
   "id": "ccc38fbe",
   "metadata": {},
   "source": [
    "정답 1) $ x^2 $"
   ]
  },
  {
   "cell_type": "markdown",
   "id": "b71216b1",
   "metadata": {},
   "source": [
    "정답 2) $ e^{i \\theta} $"
   ]
  },
  {
   "cell_type": "markdown",
   "id": "2e92dc73",
   "metadata": {},
   "source": [
    "### ㄹ. 매트릭스를 만들어 봅시다.\n",
    "매트릭스는 \\pmatrix 로 만들 수 있습니다. \n",
    "\n",
    "예시를 보고 새로운 3x3 매트릭스를 만들어 보세요.\n",
    "\n",
    "예시 $\\pmatrix{x_{00} & x_{01} \\\\ x_{10} & x_{11}}$"
   ]
  },
  {
   "cell_type": "markdown",
   "id": "5efb0fe8",
   "metadata": {},
   "source": [
    "정답) $ \\pmatrix{x_{00} & x_{01} & x_{02} \\\\ x_{10} & x_{11} & x_{12} \\\\ x_{20} & x_{21} & x_{22}} $"
   ]
  },
  {
   "cell_type": "markdown",
   "id": "e092965d",
   "metadata": {},
   "source": [
    "### ㅁ. 분수\n",
    "분수는 $ \\setminus frac\\{\\}\\{\\}$으로 나타낼 수 있습니다. 1/2을 분수로 나타내봅시다"
   ]
  },
  {
   "cell_type": "markdown",
   "id": "c28c5c65",
   "metadata": {},
   "source": [
    "정답) $ \\frac{1}{2} $"
   ]
  },
  {
   "cell_type": "markdown",
   "id": "dcfaec6d",
   "metadata": {},
   "source": [
    "### ㅂ. 최종 점검\n",
    "다음 이미지를 수식으로 변경하시오\n",
    "\n",
    "![nn](1.png)\n",
    "\n"
   ]
  },
  {
   "cell_type": "markdown",
   "id": "2cd149dd",
   "metadata": {},
   "source": [
    "정답)  $ L_j = ReLU(\\sum_1^n  w_{ij} \\cdot L_i + B_j)$"
   ]
  },
  {
   "cell_type": "markdown",
   "id": "5663bbab",
   "metadata": {},
   "source": [
    "## 2) 미분하기\n",
    "위에서 배운 수식 입력 방법을 가지고 계산을 해봅시다!"
   ]
  },
  {
   "cell_type": "markdown",
   "id": "a15e8f2b",
   "metadata": {},
   "source": [
    "### ㄱ. 다음 함수의 $\\frac{dy}{dx}$를 구하시오\n",
    "\n",
    "$$y = f(u) \\quad\\quad\\quad u = g(x) $$"
   ]
  },
  {
   "cell_type": "markdown",
   "id": "2fecddf5",
   "metadata": {},
   "source": [
    "정답) $ \\frac{dy}{du} \\cdot \\frac{du}{dx}$"
   ]
  },
  {
   "cell_type": "markdown",
   "id": "0fe7cdb5",
   "metadata": {},
   "source": [
    "### ㄴ. 다음 함수의 $\\nabla y$를 $\\vec{x}$의 원소로 풀어서 쓰시오.\n",
    "단, $\\vec{x} = [x_0,x_1,x_2,x_3] $이다.\n",
    "\n",
    "$$ y = f(x) $$"
   ]
  },
  {
   "cell_type": "markdown",
   "id": "2576e021",
   "metadata": {},
   "source": [
    "정답) $\\nabla y = [\\frac{dy}{dx_0}, \\frac{dy}{dx_1}, \\frac{dy}{dx_2}, \\frac{dy}{dx_3}]$ "
   ]
  },
  {
   "cell_type": "markdown",
   "id": "63ffc1c5",
   "metadata": {},
   "source": [
    "### ㄷ. 다음 함수의 $\\nabla y$를 $\\vec{u}$와 $\\vec{x}$의 원소로 풀어서 쓰시오.\n",
    "단, $\\vec{u}$는 $[u_0, u_1, u_2]$ 이며 $\\vec{x}$는 $[x_0, x_1]$ 이다. \n",
    "\n",
    "$$ y = f(\\vec{u}) \\quad \\quad \\quad \\vec{u} = g(\\vec{x}) $$"
   ]
  },
  {
   "cell_type": "markdown",
   "id": "67f2744f",
   "metadata": {},
   "source": [
    "정답) $\\nabla y = [\\frac{\\partial y}{\\partial x_0}, \\frac{\\partial y}{\\partial x_1} ]$ 이며 각 원소는 아래와 같다\n",
    "\n",
    "$$ \\frac{\\partial y}{\\partial x_0} =  [\\frac{du_0}{dx_0},\\frac{du_1}{dx_0},\\frac{du_2}{dx_0}]^T$$\n",
    "\n",
    "$$ \\frac{\\partial y}{\\partial x_1} =  [\\frac{du_0}{dx_1},\\frac{du_1}{dx_1},\\frac{du_2}{dx_1}]^T$$"
   ]
  },
  {
   "cell_type": "markdown",
   "id": "9a61b691",
   "metadata": {},
   "source": [
    "### ㄹ. 다음 함수의 Jacobian 인 $\\nabla \\vec{y}$를 $\\vec{y}$와 $\\vec{x}$의 원소로 풀어서 쓰시오.\n",
    "단, $\\vec{y} = [y_0,y_1,y_2] \\quad \\vec{x} = [x_0,x_1,x_2,x_3] $이다.\n",
    "\n",
    "$$ \\vec{y} = f(\\vec{x}) $$"
   ]
  },
  {
   "cell_type": "markdown",
   "id": "688bf891",
   "metadata": {},
   "source": [
    "정답) \n",
    "$\\nabla \\vec{y} =\n",
    "\\pmatrix\n",
    "{\n",
    "\\frac{dy_0}{dx_0} & \\frac{dy_0}{dx_1} & \\frac{dy_0}{dx_2} & \\frac{dy_0}{dx_3} \\\\\n",
    "\\frac{dy_1}{dx_0} & \\frac{dy_1}{dx_1} & \\frac{dy_1}{dx_2} & \\frac{dy_1}{dx_3} \\\\\n",
    "\\frac{dy_2}{dx_0} & \\frac{dy_2}{dx_1} & \\frac{dy_2}{dx_2} & \\frac{dy_2}{dx_3}\n",
    "} $ "
   ]
  },
  {
   "cell_type": "markdown",
   "id": "13ce3321",
   "metadata": {},
   "source": [
    "### ㅁ. 위 문제ㄷ의 결과를  Jacobian인 $\\nabla_\\vec{x} \\vec{u}$과 Gradient인  $\\nabla_\\vec{u}y$ 로 표기하고 각각$\\nabla_\\vec{x} \\vec{u}$ 와 $\\nabla_\\vec{u}y$를 $y$와 $[u_0, u_1, u_2]$과  $[x_0, x_1]$로 표기하세요"
   ]
  },
  {
   "cell_type": "markdown",
   "id": "faef2f24",
   "metadata": {},
   "source": [
    "정답) $\\nabla y = [ \\frac{\\partial y}{\\partial x_0}, \\frac{\\partial y}{\\partial x_1}\n",
    "] $ 과\n",
    "\n",
    "$\\nabla_\\vec{u} y = [ \\frac{\\partial y}{\\partial u_0}, \\frac{\\partial y}{\\partial u_1}, \\frac{\\partial y}{\\partial u_2}\n",
    "]$\n",
    "\n",
    "$ \\nabla_\\vec{x} \\vec{u} =\n",
    "\\pmatrix{\n",
    "\\frac{du_0}{dx_0} & \\frac{du_0}{dx_1} \\\\\n",
    "\\frac{du_1}{dx_0} & \\frac{du_1}{dx_1} \\\\\n",
    "\\frac{du_2}{dx_0} & \\frac{du_2}{dx_1}\n",
    "} $"
   ]
  },
  {
   "cell_type": "markdown",
   "id": "877158a3",
   "metadata": {},
   "source": [
    "### ㅂ. 다음 함수의 $\\nabla_\\vec{w} \\vec{y}$를  $\\vec{y}$와 $\\vec{w}$의 원소로 풀어서 쓰시오\n",
    "단, $\\vec{y} = [y_0,y_1,y_2] \\quad \\vec{w} = \\pmatrix{w_{00} & w_{01} &w_{02} \\\\ w_{10} & w_{11} &w_{12} \\\\ w_{20} & w_{21} &w_{22} } $이다.\n",
    "\n",
    "$$ \\vec{y} = f(\\vec{w}) $$"
   ]
  },
  {
   "cell_type": "markdown",
   "id": "d1e99616",
   "metadata": {},
   "source": [
    "정답) $\\nabla_\\vec{w} \\vec{y} = \n",
    "\\pmatrix\n",
    "{\n",
    "\\frac{\\partial y_0}{\\partial w_{00}} & \\frac{\\partial y_0}{\\partial w_{01}} & \\frac{\\partial y_0}{\\partial w_{02}} & \\frac{\\partial y_0}{\\partial w_{10}} & \\frac{\\partial y_0}{\\partial w_{11}} & \\frac{\\partial y_0}{\\partial w_{12}} & \\frac{\\partial y_0}{\\partial w_{20}} & \\frac{\\partial y_0}{\\partial w_{21}} & \\frac{\\partial y_0}{\\partial w_{22}} \\\\\n",
    "\\frac{\\partial y_1}{\\partial w_{00}} & \\frac{\\partial y_1}{\\partial w_{01}} & \\frac{\\partial y_1}{\\partial w_{02}} & \\frac{\\partial y_1}{\\partial w_{10}} & \\frac{\\partial y_1}{\\partial w_{11}} & \\frac{\\partial y_1}{\\partial w_{12}} & \\frac{\\partial y_1}{\\partial w_{20}} & \\frac{\\partial y_1}{\\partial w_{21}} & \\frac{\\partial y_1}{\\partial w_{22}} \\\\\n",
    "\\frac{\\partial y_2}{\\partial w_{00}} & \\frac{\\partial y_2}{\\partial w_{01}} & \\frac{\\partial y_2}{\\partial w_{02}} & \\frac{\\partial y_2}{\\partial w_{10}} & \\frac{\\partial y_2}{\\partial w_{11}} & \\frac{\\partial y_2}{\\partial w_{12}} & \\frac{\\partial y_2}{\\partial w_{20}} & \\frac{\\partial y_2}{\\partial w_{21}} & \\frac{\\partial y_2}{\\partial w_{22}}\n",
    "} $ "
   ]
  },
  {
   "cell_type": "markdown",
   "id": "558d4844",
   "metadata": {},
   "source": [
    "### ㅅ. 다음 인공뉴런 1개에 대한 내용이다. \n",
    "$\\vec{I} = [I_0, I_1] $ 이며 입력값이고,\n",
    "\n",
    "$\\vec{w} = \\pmatrix{w_0 \\\\ w_1} $ 이며 입력값에 곱해지는 weight 값이며,\n",
    "\n",
    "$h = \\vec{I}\\cdot\\vec{w} $,\n",
    "\n",
    "$f = ReLU(h)$, 단 $ ReLU(x) = \\left\\{\n",
    "\\begin{array}{ll}\n",
    "      0 & x\\leq0 \\\\\n",
    "      x & x>0\\\\\n",
    "\\end{array} \n",
    "\\right. $\n",
    "\n",
    "일 때 $\\nabla_\\vec{w} f$를 $I_0, I_1, h$로 표기하시오"
   ]
  },
  {
   "cell_type": "markdown",
   "id": "1cb865fc",
   "metadata": {},
   "source": [
    "정답) $\\nabla_\\vec{w} f = \\cases{ [0,0] & if f $\\leq$ 0 \\\\ [1, 1] & if f > 0} \\cdot \\pmatrix{ \\frac{\\partial h_0}{\\partial I_0} & \\frac{\\partial h_0}{\\partial I_1} \\\\ \\frac{\\partial h_1}{\\partial I_0} & \\frac{\\partial h_1}{\\partial I_1}}  $"
   ]
  },
  {
   "cell_type": "markdown",
   "id": "f63e0405",
   "metadata": {},
   "source": [
    "### ㅇ. 위 문제에서 $\\nabla_\\vec{I} f$ 를 구하시오"
   ]
  },
  {
   "cell_type": "markdown",
   "id": "99fb397c",
   "metadata": {},
   "source": [
    "정답) $\\nabla_\\vec{I} f = \\cases{ [0,0] & if f $\\leq$ 0 \\\\ [1, 1] & if f > 0} \\cdot \\pmatrix{ \\frac{\\partial h_0}{\\partial w_0} & \\frac{\\partial h_0}{\\partial w_1} \\\\ \\frac{\\partial h_1}{\\partial w_0} & \\frac{\\partial h_1}{\\partial w_1}}  $"
   ]
  },
  {
   "cell_type": "markdown",
   "id": "9eff8ada",
   "metadata": {},
   "source": [
    "### ㅈ. 다음 인공 뉴런 1개에 대한 내용이다\n",
    "$\\vec{I} = [2, 3] $ 이며 입력값이고,\n",
    "\n",
    "$\\vec{w} = \\pmatrix{4 \\\\ 5} $ 이며 입력값에 곱해지는 weight 값이며,\n",
    "\n",
    "$h = \\vec{I}\\cdot\\vec{w} $,\n",
    "\n",
    "$f = ReLU(h)$, 단 $ ReLU(x) = \\left\\{\n",
    "\\begin{array}{ll}\n",
    "      0 & x\\leq0 \\\\\n",
    "      x & x>0\\\\\n",
    "\\end{array} \n",
    "\\right. $\n",
    "\n",
    "일 때 $\\nabla_\\vec{w} f$를 벡터로 표기하시오"
   ]
  },
  {
   "cell_type": "markdown",
   "id": "d02154b6",
   "metadata": {},
   "source": [
    "정답) $\\nabla_\\vec{w} f = \\cases{ [0,0] & if f $\\leq$ 0 \\\\ [1, 1] & if f > 0} \\cdot \\pmatrix{ 2 & 0 \\\\ 0 & 3} = \\cases{ [0,0] & if f $\\leq$ 0 \\\\ [2, 3] & if f > 0} $"
   ]
  },
  {
   "cell_type": "markdown",
   "id": "c77c03d4",
   "metadata": {},
   "source": [
    "### ㅊ. 위 ㅈ 문제에서 $\\nabla_\\vec{I} f $ 를 구하시오"
   ]
  },
  {
   "cell_type": "markdown",
   "id": "5c8bf6ef",
   "metadata": {},
   "source": [
    "정답) $\\nabla_\\vec{w} f = \\cases{ [0,0] & if f $\\leq$ 0 \\\\ [1, 1] & if f > 0} \\cdot \\pmatrix{ 4 & 0 \\\\ 0 & 5} = \\cases{ [0,0] & if f $\\leq$ 0 \\\\ [4, 5] & if f > 0} $"
   ]
  }
 ],
 "metadata": {
  "kernelspec": {
   "display_name": "Python 3 (ipykernel)",
   "language": "python",
   "name": "python3"
  },
  "language_info": {
   "codemirror_mode": {
    "name": "ipython",
    "version": 3
   },
   "file_extension": ".py",
   "mimetype": "text/x-python",
   "name": "python",
   "nbconvert_exporter": "python",
   "pygments_lexer": "ipython3",
   "version": "3.7.16"
  }
 },
 "nbformat": 4,
 "nbformat_minor": 5
}
