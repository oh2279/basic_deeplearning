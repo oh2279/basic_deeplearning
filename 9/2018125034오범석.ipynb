{
 "cells": [
  {
   "cell_type": "markdown",
   "id": "b71f7385",
   "metadata": {},
   "source": [
    "# Multi-Layer Perceptron with CIFAR10 classification "
   ]
  },
  {
   "cell_type": "markdown",
   "id": "1705e140",
   "metadata": {},
   "source": [
    "## 1. Module Import"
   ]
  },
  {
   "cell_type": "code",
   "execution_count": 1,
   "id": "a0643ab9",
   "metadata": {},
   "outputs": [],
   "source": [
    "import numpy as np\n",
    "import matplotlib.pyplot as plt\n",
    "\n",
    "import torch\n",
    "from torchvision import datasets\n",
    "import torchvision.transforms as transforms\n",
    "\n",
    "import torch.optim as optim\n",
    "\n",
    "import ssl\n",
    "ssl._create_default_https_context = ssl._create_unverified_context"
   ]
  },
  {
   "cell_type": "markdown",
   "id": "615e50e2",
   "metadata": {},
   "source": [
    "## 2. 딥러닝 모델을 설계할 때 활용하는 장비 확인"
   ]
  },
  {
   "cell_type": "code",
   "execution_count": 2,
   "id": "063e666e",
   "metadata": {},
   "outputs": [
    {
     "name": "stdout",
     "output_type": "stream",
     "text": [
      "Using PyTorch version: 1.13.1  Device: cpu\n"
     ]
    }
   ],
   "source": [
    "if torch.cuda.is_available():\n",
    "    device = torch.device('cuda')\n",
    "else:\n",
    "    device = torch.device('cpu')\n",
    "\n",
    "print('Using PyTorch version:', torch.__version__, ' Device:', device)"
   ]
  },
  {
   "cell_type": "markdown",
   "id": "534d3122",
   "metadata": {},
   "source": [
    "## 3. CIFAR10 Data Normalization and Augmentation"
   ]
  },
  {
   "cell_type": "code",
   "execution_count": 3,
   "id": "9beb8a68",
   "metadata": {},
   "outputs": [
    {
     "name": "stdout",
     "output_type": "stream",
     "text": [
      "Files already downloaded and verified\n",
      "Files already downloaded and verified\n"
     ]
    }
   ],
   "source": [
    "train_data = datasets.CIFAR10('data', train=True, download=True, transform=transforms.ToTensor())\n",
    "test_data = datasets.CIFAR10('data', train=False, download=True, transform=transforms.ToTensor())"
   ]
  },
  {
   "cell_type": "markdown",
   "id": "f60a63b3",
   "metadata": {},
   "source": [
    "문제) 학습 데이터(training data)의 색상별 평균과 표준 편차를 구하자."
   ]
  },
  {
   "cell_type": "code",
   "execution_count": 4,
   "id": "43b15adb",
   "metadata": {},
   "outputs": [
    {
     "name": "stdout",
     "output_type": "stream",
     "text": [
      "(50000, 32, 32, 3)\n",
      "[0.49139968 0.48215841 0.44653091]\n",
      "[0.24703223 0.24348513 0.26158784]\n"
     ]
    }
   ],
   "source": [
    "print(train_data.data.shape)\n",
    "print(train_data.data.mean(axis=(0,1,2))/255)\n",
    "print(train_data.data.std(axis=(0,1,2))/255)"
   ]
  },
  {
   "cell_type": "markdown",
   "id": "ae8ac98c",
   "metadata": {},
   "source": [
    "문제) 위 내용을 반영하여 데이터를 Normalize 하고 랜덤하게 좌우반전 및 흑백 사진으로 바꾸자."
   ]
  },
  {
   "cell_type": "code",
   "execution_count": 5,
   "id": "ac88dac6",
   "metadata": {},
   "outputs": [
    {
     "name": "stdout",
     "output_type": "stream",
     "text": [
      "Files already downloaded and verified\n",
      "Files already downloaded and verified\n"
     ]
    }
   ],
   "source": [
    "transform = transforms.Compose(\n",
    "    [\n",
    "        transforms.ToTensor(),\n",
    "        transforms.RandomHorizontalFlip(0.5),\n",
    "        transforms.RandomGrayscale(0.5),\n",
    "        transforms.Normalize(mean=[0.49139968, 0.48215841, 0.44653091],\n",
    "                             std=[0.24703223, 0.24348513, 0.26158784])\n",
    "    ])\n",
    "\n",
    "train_data = datasets.CIFAR10('data', train=True, download=True, transform=transform)\n",
    "test_data = datasets.CIFAR10('data', train=False, download=True, transform=transform)"
   ]
  },
  {
   "cell_type": "markdown",
   "id": "2cf7dfdd",
   "metadata": {},
   "source": [
    "완성된 dataset.CIFAR10 객체를 train_loader에 넣는다."
   ]
  },
  {
   "cell_type": "code",
   "execution_count": 6,
   "id": "d034ffb2",
   "metadata": {},
   "outputs": [],
   "source": [
    "BATCH_SIZE = 32\n",
    "\n",
    "train_loader = torch.utils.data.DataLoader(dataset=train_data, batch_size=BATCH_SIZE, shuffle=False)\n",
    "test_loader = torch.utils.data.DataLoader(dataset=test_data, batch_size=BATCH_SIZE, shuffle=False)    "
   ]
  },
  {
   "cell_type": "markdown",
   "id": "57ebcf43",
   "metadata": {},
   "source": [
    "아래의 코드를 여러번 돌려, 실제로 좌우반전 및 흑백사진으로 변하는지 확인하자."
   ]
  },
  {
   "cell_type": "code",
   "execution_count": 7,
   "id": "5d5527e0",
   "metadata": {},
   "outputs": [
    {
     "name": "stderr",
     "output_type": "stream",
     "text": [
      "Clipping input data to the valid range for imshow with RGB data ([0..1] for floats or [0..255] for integers).\n"
     ]
    },
    {
     "data": {
      "image/png": "[encoded data removed]",
      "text/plain": [
       "<Figure size 640x480 with 1 Axes>"
      ]
     },
     "metadata": {},
     "output_type": "display_data"
    }
   ],
   "source": [
    "for (X_train, y_train) in train_loader:\n",
    "    plt.imshow(X_train[0].permute(1,2,0).numpy())\n",
    "    plt.show()\n",
    "    break"
   ]
  },
  {
   "cell_type": "markdown",
   "id": "437ffb80",
   "metadata": {},
   "source": [
    "## 4. torch.nn을 이용하여 모델-1 만들기\n",
    "\n",
    "   1) input layer (입력층), hidden layer (은닉층), output layer (출력층) 으로 이루어진 모델을 이용\n",
    "\n",
    "   2) 하나의 hidden layer (은닉층)만 이용 - 은닉층의 개수는 100개로 하세요\n",
    "   \n",
    "   3) nn.Module을 상속 받아 만들 것!\n",
    "   \n",
    "   4) nn.Linear와 nn.ReLU를 사용할 것!\n",
    "   \n",
    "   5) Batch Normalization 을 사용할 것"
   ]
  },
  {
   "cell_type": "code",
   "execution_count": 8,
   "id": "defacffb",
   "metadata": {},
   "outputs": [],
   "source": [
    "import torch.nn as nn\n",
    "\n",
    "class Model_1(nn.Module):\n",
    "    def __init__(self):\n",
    "        super(Model_1,self).__init__()\n",
    "        self.fc1 = nn.Linear(3*32*32, 100)\n",
    "        self.fc2 = nn.Linear(100,10)\n",
    "        self.relu = nn.ReLU()\n",
    "        self.bn = torch.nn.BatchNorm1d(100)\n",
    "        \n",
    "    def forward(self,x):\n",
    "        x = self.fc1(x)\n",
    "        x = self.bn(x)\n",
    "        x = self.relu(x)\n",
    "        x = self.fc2(x)\n",
    "        return x"
   ]
  },
  {
   "cell_type": "markdown",
   "id": "3e26eed9",
   "metadata": {},
   "source": [
    "## 5. torch.nn을 이용하여 모델-2 만들기\n",
    "\n",
    "   1) input layer (입력층), hidden layer (은닉층), output layer (출력층) 으로 이루어진 모델을 이용\n",
    "\n",
    "   2) 하나의 hidden layer (은닉층)만 이용 - 은닉층의 개수는 100개로 하세요\n",
    "   \n",
    "   3) nn.Module을 상속 받아 만들 것!\n",
    "   \n",
    "   4) nn.Linear와 nn.ReLU를 사용할 것!\n",
    "   \n",
    "   5) Dropout을 확률을 50%로 사용할 것 - BN는 사용하지 말것!"
   ]
  },
  {
   "cell_type": "code",
   "execution_count": 9,
   "id": "27ac70af",
   "metadata": {},
   "outputs": [],
   "source": [
    "class Model_2(nn.Module):\n",
    "    def __init__(self):\n",
    "        super(Model_2,self).__init__()\n",
    "        self.fc1 = nn.Linear(3*32*32, 100)\n",
    "        self.fc2 = nn.Linear(100,10)\n",
    "        self.relu = nn.ReLU()\n",
    "        self.dropout = torch.nn.Dropout(0.5)\n",
    "        \n",
    "    def forward(self,x):\n",
    "        x = self.fc1(x)\n",
    "        x = self.relu(x)\n",
    "        x = self.dropout(x)\n",
    "        x = self.fc2(x)\n",
    "        return x"
   ]
  },
  {
   "cell_type": "markdown",
   "id": "de556825",
   "metadata": {},
   "source": [
    "## 7. 학습 준비하기\n",
    "\n",
    "1) 1 epoch를 학습할 수 있는 함수 만들기\n",
    "\n",
    "2) 1 테스트 데이터의 정확도 계산할 수 있는 함수 만들기"
   ]
  },
  {
   "cell_type": "code",
   "execution_count": 10,
   "id": "06030b48",
   "metadata": {},
   "outputs": [],
   "source": [
    "def training_epoch(train_loader, network, loss_func, optimizer, epoch):\n",
    "    train_losses = []\n",
    "    train_correct = 0\n",
    "    log_interval = 500\n",
    "    \n",
    "    for batch_idx, (image, label) in enumerate(train_loader):\n",
    "        # 미분값의 초기화\n",
    "        optimizer.zero_grad()\n",
    "\n",
    "        # 이미지를 (batch_size, -1) 차원의 메트릭스로 만드세요\n",
    "        batch_size = image.size()[0]\n",
    "        image = image.view(batch_size, -1)\n",
    "\n",
    "        # Forward propagration 계산하기.\n",
    "        outputs = network(image)\n",
    "        \n",
    "        # loss_func 함수를 적용하여 loss를 구하고 저장하기\n",
    "        loss = loss_func(outputs,label)\n",
    "        train_losses.append(loss.item())\n",
    "\n",
    "        # training accuracy 정확도 구하기 위해 맞는 샘플 개수 세기\n",
    "        pred = outputs.data.max(1)[1]\n",
    "        train_correct += pred.eq(label).sum()\n",
    "\n",
    "        # Gradinet 구하기\n",
    "        loss.backward()\n",
    "\n",
    "        # weight값 update 하기\n",
    "        optimizer.step()\n",
    "\n",
    "        # 학습 상황 출력\n",
    "        if batch_idx % log_interval == 0:\n",
    "            print('Train Epoch: {} [{}/{} ({:.0f}%)]\\tLoss: {:.6f}'\n",
    "                  .format(epoch, batch_idx * len(label), len(train_loader.dataset),100. * batch_idx / len(train_loader),\n",
    "                          loss.item()))\n",
    "            \n",
    "    return train_losses, train_correct"
   ]
  },
  {
   "cell_type": "code",
   "execution_count": 11,
   "id": "d3c0dcf9",
   "metadata": {},
   "outputs": [],
   "source": [
    "def test_epoch(test_loader, network, loss_func):\n",
    "    correct = 0\n",
    "    \n",
    "    test_losses = []\n",
    "    \n",
    "    with torch.no_grad():\n",
    "        for batch_idx, (image, label) in enumerate(test_loader):\n",
    "            batch_size = image.size()[0]\n",
    "            image = image.view(batch_size,-1)\n",
    "\n",
    "            # Forward propagration 계산하기.\n",
    "            outputs = network(image)\n",
    "\n",
    "            # loss_func 함수를 적용하여 loss를 구하고 저장하기\n",
    "            loss = loss_func(outputs,label)\n",
    "            test_losses.append(loss.item())\n",
    "\n",
    "            # Batch 별로 정확도 구하기\n",
    "            pred = outputs.data.max(1)[1]\n",
    "            correct += pred.eq(label).sum()\n",
    "\n",
    "        # 전체 정확도 구하기\n",
    "        test_accuracy = 100. * correct / len(test_loader.dataset)\n",
    "\n",
    "        #중간결과 출력\n",
    "        print('Test set: Accuracy: {}/{} ({:.0f}%)\\n'\n",
    "              .format(correct, len(test_loader.dataset),100. * correct / len(test_loader.dataset)))\n",
    "    return test_losses, test_accuracy\n"
   ]
  },
  {
   "cell_type": "markdown",
   "id": "88d73c53",
   "metadata": {},
   "source": [
    "## 7. 위 정의된 함수로 학습 함수 만들기\n",
    "\n",
    "1. SGD Optimizer를 사용하고\n",
    "\n",
    "2. Regularizer 를 사용하여 (weight_decay = 0.01로 사용할 것)\n",
    "\n",
    "학습시키기"
   ]
  },
  {
   "cell_type": "code",
   "execution_count": 12,
   "id": "df29783f",
   "metadata": {},
   "outputs": [],
   "source": [
    "def training(network, learning_rate = 0.01):\n",
    "    \n",
    "#   learning_rate = 0.01\n",
    "    epoches = 20\n",
    "    \n",
    "    cls_loss = nn.CrossEntropyLoss()\n",
    "    optimizer = optim.SGD(network.parameters(), lr=learning_rate, weight_decay=0.01)\n",
    "    \n",
    "    train_losses_per_epoch = []\n",
    "    test_losses_per_epoch = []\n",
    "    \n",
    "    train_accuracies = []\n",
    "    test_accuracies = []\n",
    "    \n",
    "    \n",
    "    for epoch in range(epoches):\n",
    "                \n",
    "        # 모델를 학습 중이라고 선언하기\n",
    "        network.train()\n",
    "        \n",
    "        train_losses, train_correct = training_epoch(train_loader,network,cls_loss,optimizer, epoch)\n",
    "        \n",
    "        # epoch 별로 loss 평균값, 정확도 구하기\n",
    "        average_loss = np.mean(train_losses)\n",
    "        train_losses_per_epoch.append(average_loss)\n",
    "        \n",
    "        train_accuracy = train_correct / len(train_loader.dataset) * 100\n",
    "        train_accuracies.append(train_accuracy)\n",
    "        \n",
    "        # epoch 별로 정확도 출력\n",
    "        print('\\nTraining set: Accuracy: {}/{} ({:.0f}%)'\n",
    "              .format(train_correct, len(train_loader.dataset),100. * train_correct / len(train_loader.dataset)))\n",
    "\n",
    "        \n",
    "        ### 학습 중에 test 결과 보기\n",
    "        \n",
    "        # 모델 test 중인 것을 선언하기\n",
    "        network.eval()\n",
    "        \n",
    "        correct = 0\n",
    "        with torch.no_grad():\n",
    "            test_losses, test_accuracy = test_epoch(test_loader, network, cls_loss)\n",
    "\n",
    "        test_losses_per_epoch.append(np.mean(test_losses))\n",
    "        test_accuracies.append(test_accuracy)\n",
    "        \n",
    "    return train_losses_per_epoch, test_losses_per_epoch, train_accuracies, test_accuracies\n"
   ]
  },
  {
   "cell_type": "code",
   "execution_count": 13,
   "id": "e1394321",
   "metadata": {},
   "outputs": [
    {
     "name": "stdout",
     "output_type": "stream",
     "text": [
      "Train Epoch: 0 [0/50000 (0%)]\tLoss: 2.429538\n",
      "Train Epoch: 0 [16000/50000 (32%)]\tLoss: 1.972217\n",
      "Train Epoch: 0 [32000/50000 (64%)]\tLoss: 2.015101\n",
      "Train Epoch: 0 [48000/50000 (96%)]\tLoss: 1.947342\n",
      "\n",
      "Training set: Accuracy: 17073/50000 (34%)\n",
      "Test set: Accuracy: 3918/10000 (39%)\n",
      "\n",
      "Train Epoch: 1 [0/50000 (0%)]\tLoss: 1.898147\n",
      "Train Epoch: 1 [16000/50000 (32%)]\tLoss: 1.865107\n",
      "Train Epoch: 1 [32000/50000 (64%)]\tLoss: 1.950563\n",
      "Train Epoch: 1 [48000/50000 (96%)]\tLoss: 1.934846\n",
      "\n",
      "Training set: Accuracy: 19249/50000 (38%)\n",
      "Test set: Accuracy: 4092/10000 (41%)\n",
      "\n",
      "Train Epoch: 2 [0/50000 (0%)]\tLoss: 1.870820\n",
      "Train Epoch: 2 [16000/50000 (32%)]\tLoss: 1.750338\n",
      "Train Epoch: 2 [32000/50000 (64%)]\tLoss: 1.867347\n",
      "Train Epoch: 2 [48000/50000 (96%)]\tLoss: 1.967707\n",
      "\n",
      "Training set: Accuracy: 20023/50000 (40%)\n",
      "Test set: Accuracy: 4217/10000 (42%)\n",
      "\n",
      "Train Epoch: 3 [0/50000 (0%)]\tLoss: 1.834279\n",
      "Train Epoch: 3 [16000/50000 (32%)]\tLoss: 1.821329\n",
      "Train Epoch: 3 [32000/50000 (64%)]\tLoss: 1.760748\n",
      "Train Epoch: 3 [48000/50000 (96%)]\tLoss: 1.903460\n",
      "\n",
      "Training set: Accuracy: 20479/50000 (41%)\n",
      "Test set: Accuracy: 4227/10000 (42%)\n",
      "\n",
      "Train Epoch: 4 [0/50000 (0%)]\tLoss: 1.816811\n",
      "Train Epoch: 4 [16000/50000 (32%)]\tLoss: 1.757655\n",
      "Train Epoch: 4 [32000/50000 (64%)]\tLoss: 1.810024\n",
      "Train Epoch: 4 [48000/50000 (96%)]\tLoss: 1.864770\n",
      "\n",
      "Training set: Accuracy: 20821/50000 (42%)\n",
      "Test set: Accuracy: 4286/10000 (43%)\n",
      "\n",
      "Train Epoch: 5 [0/50000 (0%)]\tLoss: 1.776554\n",
      "Train Epoch: 5 [16000/50000 (32%)]\tLoss: 1.722306\n",
      "Train Epoch: 5 [32000/50000 (64%)]\tLoss: 1.818004\n",
      "Train Epoch: 5 [48000/50000 (96%)]\tLoss: 1.818425\n",
      "\n",
      "Training set: Accuracy: 20960/50000 (42%)\n",
      "Test set: Accuracy: 4283/10000 (43%)\n",
      "\n",
      "Train Epoch: 6 [0/50000 (0%)]\tLoss: 1.862280\n",
      "Train Epoch: 6 [16000/50000 (32%)]\tLoss: 1.767523\n",
      "Train Epoch: 6 [32000/50000 (64%)]\tLoss: 1.745359\n",
      "Train Epoch: 6 [48000/50000 (96%)]\tLoss: 1.846646\n",
      "\n",
      "Training set: Accuracy: 21089/50000 (42%)\n",
      "Test set: Accuracy: 4339/10000 (43%)\n",
      "\n",
      "Train Epoch: 7 [0/50000 (0%)]\tLoss: 1.846104\n",
      "Train Epoch: 7 [16000/50000 (32%)]\tLoss: 1.778069\n",
      "Train Epoch: 7 [32000/50000 (64%)]\tLoss: 1.861662\n",
      "Train Epoch: 7 [48000/50000 (96%)]\tLoss: 1.982946\n",
      "\n",
      "Training set: Accuracy: 21168/50000 (42%)\n",
      "Test set: Accuracy: 4336/10000 (43%)\n",
      "\n",
      "Train Epoch: 8 [0/50000 (0%)]\tLoss: 1.788187\n",
      "Train Epoch: 8 [16000/50000 (32%)]\tLoss: 1.787954\n",
      "Train Epoch: 8 [32000/50000 (64%)]\tLoss: 1.835666\n",
      "Train Epoch: 8 [48000/50000 (96%)]\tLoss: 1.876888\n",
      "\n",
      "Training set: Accuracy: 21291/50000 (43%)\n",
      "Test set: Accuracy: 4390/10000 (44%)\n",
      "\n",
      "Train Epoch: 9 [0/50000 (0%)]\tLoss: 1.765759\n",
      "Train Epoch: 9 [16000/50000 (32%)]\tLoss: 1.819489\n",
      "Train Epoch: 9 [32000/50000 (64%)]\tLoss: 1.710857\n",
      "Train Epoch: 9 [48000/50000 (96%)]\tLoss: 1.878294\n",
      "\n",
      "Training set: Accuracy: 21303/50000 (43%)\n",
      "Test set: Accuracy: 4337/10000 (43%)\n",
      "\n",
      "Train Epoch: 10 [0/50000 (0%)]\tLoss: 1.770815\n",
      "Train Epoch: 10 [16000/50000 (32%)]\tLoss: 1.845944\n",
      "Train Epoch: 10 [32000/50000 (64%)]\tLoss: 1.824923\n",
      "Train Epoch: 10 [48000/50000 (96%)]\tLoss: 1.921546\n",
      "\n",
      "Training set: Accuracy: 21399/50000 (43%)\n",
      "Test set: Accuracy: 4311/10000 (43%)\n",
      "\n",
      "Train Epoch: 11 [0/50000 (0%)]\tLoss: 1.793057\n",
      "Train Epoch: 11 [16000/50000 (32%)]\tLoss: 1.731794\n",
      "Train Epoch: 11 [32000/50000 (64%)]\tLoss: 1.676189\n",
      "Train Epoch: 11 [48000/50000 (96%)]\tLoss: 1.957683\n",
      "\n",
      "Training set: Accuracy: 21376/50000 (43%)\n",
      "Test set: Accuracy: 4372/10000 (44%)\n",
      "\n",
      "Train Epoch: 12 [0/50000 (0%)]\tLoss: 1.724129\n",
      "Train Epoch: 12 [16000/50000 (32%)]\tLoss: 1.715431\n",
      "Train Epoch: 12 [32000/50000 (64%)]\tLoss: 1.819520\n",
      "Train Epoch: 12 [48000/50000 (96%)]\tLoss: 1.905306\n",
      "\n",
      "Training set: Accuracy: 21524/50000 (43%)\n",
      "Test set: Accuracy: 4384/10000 (44%)\n",
      "\n",
      "Train Epoch: 13 [0/50000 (0%)]\tLoss: 1.701641\n",
      "Train Epoch: 13 [16000/50000 (32%)]\tLoss: 1.749008\n",
      "Train Epoch: 13 [32000/50000 (64%)]\tLoss: 1.674619\n",
      "Train Epoch: 13 [48000/50000 (96%)]\tLoss: 1.934635\n",
      "\n",
      "Training set: Accuracy: 21435/50000 (43%)\n",
      "Test set: Accuracy: 4332/10000 (43%)\n",
      "\n",
      "Train Epoch: 14 [0/50000 (0%)]\tLoss: 1.781559\n",
      "Train Epoch: 14 [16000/50000 (32%)]\tLoss: 1.726029\n",
      "Train Epoch: 14 [32000/50000 (64%)]\tLoss: 1.902459\n",
      "Train Epoch: 14 [48000/50000 (96%)]\tLoss: 1.907448\n",
      "\n",
      "Training set: Accuracy: 21471/50000 (43%)\n",
      "Test set: Accuracy: 4340/10000 (43%)\n",
      "\n",
      "Train Epoch: 15 [0/50000 (0%)]\tLoss: 1.815636\n",
      "Train Epoch: 15 [16000/50000 (32%)]\tLoss: 1.781479\n",
      "Train Epoch: 15 [32000/50000 (64%)]\tLoss: 1.761220\n",
      "Train Epoch: 15 [48000/50000 (96%)]\tLoss: 1.857441\n",
      "\n",
      "Training set: Accuracy: 21480/50000 (43%)\n",
      "Test set: Accuracy: 4373/10000 (44%)\n",
      "\n",
      "Train Epoch: 16 [0/50000 (0%)]\tLoss: 1.679513\n",
      "Train Epoch: 16 [16000/50000 (32%)]\tLoss: 1.784823\n",
      "Train Epoch: 16 [32000/50000 (64%)]\tLoss: 1.773063\n",
      "Train Epoch: 16 [48000/50000 (96%)]\tLoss: 1.878635\n",
      "\n",
      "Training set: Accuracy: 21499/50000 (43%)\n",
      "Test set: Accuracy: 4355/10000 (44%)\n",
      "\n",
      "Train Epoch: 17 [0/50000 (0%)]\tLoss: 1.875653\n",
      "Train Epoch: 17 [16000/50000 (32%)]\tLoss: 1.671832\n",
      "Train Epoch: 17 [32000/50000 (64%)]\tLoss: 1.757271\n",
      "Train Epoch: 17 [48000/50000 (96%)]\tLoss: 1.836337\n",
      "\n",
      "Training set: Accuracy: 21459/50000 (43%)\n",
      "Test set: Accuracy: 4346/10000 (43%)\n",
      "\n",
      "Train Epoch: 18 [0/50000 (0%)]\tLoss: 1.790631\n",
      "Train Epoch: 18 [16000/50000 (32%)]\tLoss: 1.731676\n",
      "Train Epoch: 18 [32000/50000 (64%)]\tLoss: 1.712259\n",
      "Train Epoch: 18 [48000/50000 (96%)]\tLoss: 1.920608\n",
      "\n",
      "Training set: Accuracy: 21553/50000 (43%)\n",
      "Test set: Accuracy: 4344/10000 (43%)\n",
      "\n",
      "Train Epoch: 19 [0/50000 (0%)]\tLoss: 1.829124\n",
      "Train Epoch: 19 [16000/50000 (32%)]\tLoss: 1.847153\n",
      "Train Epoch: 19 [32000/50000 (64%)]\tLoss: 1.769820\n",
      "Train Epoch: 19 [48000/50000 (96%)]\tLoss: 1.880507\n",
      "\n",
      "Training set: Accuracy: 21567/50000 (43%)\n",
      "Test set: Accuracy: 4361/10000 (44%)\n",
      "\n"
     ]
    }
   ],
   "source": [
    "network = Model_1()\n",
    "rlt_const = training(network)"
   ]
  },
  {
   "cell_type": "code",
   "execution_count": 14,
   "id": "2b3bb3ed",
   "metadata": {},
   "outputs": [
    {
     "name": "stdout",
     "output_type": "stream",
     "text": [
      "Train Epoch: 0 [0/50000 (0%)]\tLoss: 2.398739\n",
      "Train Epoch: 0 [16000/50000 (32%)]\tLoss: 2.272753\n",
      "Train Epoch: 0 [32000/50000 (64%)]\tLoss: 2.059919\n",
      "Train Epoch: 0 [48000/50000 (96%)]\tLoss: 1.978346\n",
      "\n",
      "Training set: Accuracy: 13265/50000 (27%)\n",
      "Test set: Accuracy: 3357/10000 (34%)\n",
      "\n",
      "Train Epoch: 1 [0/50000 (0%)]\tLoss: 1.944891\n",
      "Train Epoch: 1 [16000/50000 (32%)]\tLoss: 2.191121\n",
      "Train Epoch: 1 [32000/50000 (64%)]\tLoss: 2.107135\n",
      "Train Epoch: 1 [48000/50000 (96%)]\tLoss: 2.086470\n",
      "\n",
      "Training set: Accuracy: 15696/50000 (31%)\n",
      "Test set: Accuracy: 3610/10000 (36%)\n",
      "\n",
      "Train Epoch: 2 [0/50000 (0%)]\tLoss: 1.849585\n",
      "Train Epoch: 2 [16000/50000 (32%)]\tLoss: 1.946961\n",
      "Train Epoch: 2 [32000/50000 (64%)]\tLoss: 1.950979\n",
      "Train Epoch: 2 [48000/50000 (96%)]\tLoss: 1.889352\n",
      "\n",
      "Training set: Accuracy: 16520/50000 (33%)\n",
      "Test set: Accuracy: 3715/10000 (37%)\n",
      "\n",
      "Train Epoch: 3 [0/50000 (0%)]\tLoss: 1.821410\n",
      "Train Epoch: 3 [16000/50000 (32%)]\tLoss: 1.950027\n",
      "Train Epoch: 3 [32000/50000 (64%)]\tLoss: 1.856252\n",
      "Train Epoch: 3 [48000/50000 (96%)]\tLoss: 2.033870\n",
      "\n",
      "Training set: Accuracy: 17177/50000 (34%)\n",
      "Test set: Accuracy: 3866/10000 (39%)\n",
      "\n",
      "Train Epoch: 4 [0/50000 (0%)]\tLoss: 1.979356\n",
      "Train Epoch: 4 [16000/50000 (32%)]\tLoss: 1.823139\n",
      "Train Epoch: 4 [32000/50000 (64%)]\tLoss: 1.916373\n",
      "Train Epoch: 4 [48000/50000 (96%)]\tLoss: 2.112073\n",
      "\n",
      "Training set: Accuracy: 17373/50000 (35%)\n",
      "Test set: Accuracy: 3893/10000 (39%)\n",
      "\n",
      "Train Epoch: 5 [0/50000 (0%)]\tLoss: 1.791524\n",
      "Train Epoch: 5 [16000/50000 (32%)]\tLoss: 1.834025\n",
      "Train Epoch: 5 [32000/50000 (64%)]\tLoss: 2.018959\n",
      "Train Epoch: 5 [48000/50000 (96%)]\tLoss: 2.065424\n",
      "\n",
      "Training set: Accuracy: 17754/50000 (36%)\n",
      "Test set: Accuracy: 3913/10000 (39%)\n",
      "\n",
      "Train Epoch: 6 [0/50000 (0%)]\tLoss: 1.809434\n",
      "Train Epoch: 6 [16000/50000 (32%)]\tLoss: 2.019497\n",
      "Train Epoch: 6 [32000/50000 (64%)]\tLoss: 2.051510\n",
      "Train Epoch: 6 [48000/50000 (96%)]\tLoss: 2.112948\n",
      "\n",
      "Training set: Accuracy: 17885/50000 (36%)\n",
      "Test set: Accuracy: 3933/10000 (39%)\n",
      "\n",
      "Train Epoch: 7 [0/50000 (0%)]\tLoss: 1.909672\n",
      "Train Epoch: 7 [16000/50000 (32%)]\tLoss: 1.956238\n",
      "Train Epoch: 7 [32000/50000 (64%)]\tLoss: 1.828814\n",
      "Train Epoch: 7 [48000/50000 (96%)]\tLoss: 2.063891\n",
      "\n",
      "Training set: Accuracy: 18174/50000 (36%)\n",
      "Test set: Accuracy: 4032/10000 (40%)\n",
      "\n",
      "Train Epoch: 8 [0/50000 (0%)]\tLoss: 1.881231\n",
      "Train Epoch: 8 [16000/50000 (32%)]\tLoss: 1.894911\n",
      "Train Epoch: 8 [32000/50000 (64%)]\tLoss: 2.126277\n",
      "Train Epoch: 8 [48000/50000 (96%)]\tLoss: 1.992305\n",
      "\n",
      "Training set: Accuracy: 18397/50000 (37%)\n",
      "Test set: Accuracy: 4081/10000 (41%)\n",
      "\n",
      "Train Epoch: 9 [0/50000 (0%)]\tLoss: 1.718426\n",
      "Train Epoch: 9 [16000/50000 (32%)]\tLoss: 1.817508\n",
      "Train Epoch: 9 [32000/50000 (64%)]\tLoss: 1.862586\n",
      "Train Epoch: 9 [48000/50000 (96%)]\tLoss: 1.893865\n",
      "\n",
      "Training set: Accuracy: 18407/50000 (37%)\n",
      "Test set: Accuracy: 4138/10000 (41%)\n",
      "\n",
      "Train Epoch: 10 [0/50000 (0%)]\tLoss: 1.998002\n",
      "Train Epoch: 10 [16000/50000 (32%)]\tLoss: 1.860833\n",
      "Train Epoch: 10 [32000/50000 (64%)]\tLoss: 1.954757\n",
      "Train Epoch: 10 [48000/50000 (96%)]\tLoss: 2.012308\n",
      "\n",
      "Training set: Accuracy: 18587/50000 (37%)\n",
      "Test set: Accuracy: 4100/10000 (41%)\n",
      "\n",
      "Train Epoch: 11 [0/50000 (0%)]\tLoss: 1.893005\n",
      "Train Epoch: 11 [16000/50000 (32%)]\tLoss: 1.763466\n",
      "Train Epoch: 11 [32000/50000 (64%)]\tLoss: 2.018461\n",
      "Train Epoch: 11 [48000/50000 (96%)]\tLoss: 2.042021\n",
      "\n",
      "Training set: Accuracy: 18846/50000 (38%)\n",
      "Test set: Accuracy: 4100/10000 (41%)\n",
      "\n",
      "Train Epoch: 12 [0/50000 (0%)]\tLoss: 1.879314\n",
      "Train Epoch: 12 [16000/50000 (32%)]\tLoss: 2.024318\n",
      "Train Epoch: 12 [32000/50000 (64%)]\tLoss: 1.821654\n",
      "Train Epoch: 12 [48000/50000 (96%)]\tLoss: 1.911897\n",
      "\n",
      "Training set: Accuracy: 18846/50000 (38%)\n",
      "Test set: Accuracy: 4173/10000 (42%)\n",
      "\n",
      "Train Epoch: 13 [0/50000 (0%)]\tLoss: 1.841236\n",
      "Train Epoch: 13 [16000/50000 (32%)]\tLoss: 1.786366\n",
      "Train Epoch: 13 [32000/50000 (64%)]\tLoss: 1.962258\n",
      "Train Epoch: 13 [48000/50000 (96%)]\tLoss: 1.851524\n",
      "\n",
      "Training set: Accuracy: 18927/50000 (38%)\n",
      "Test set: Accuracy: 4175/10000 (42%)\n",
      "\n",
      "Train Epoch: 14 [0/50000 (0%)]\tLoss: 1.666989\n",
      "Train Epoch: 14 [16000/50000 (32%)]\tLoss: 1.786831\n",
      "Train Epoch: 14 [32000/50000 (64%)]\tLoss: 1.954937\n",
      "Train Epoch: 14 [48000/50000 (96%)]\tLoss: 1.988804\n",
      "\n",
      "Training set: Accuracy: 18984/50000 (38%)\n",
      "Test set: Accuracy: 4183/10000 (42%)\n",
      "\n",
      "Train Epoch: 15 [0/50000 (0%)]\tLoss: 1.710277\n",
      "Train Epoch: 15 [16000/50000 (32%)]\tLoss: 1.789248\n",
      "Train Epoch: 15 [32000/50000 (64%)]\tLoss: 1.737209\n",
      "Train Epoch: 15 [48000/50000 (96%)]\tLoss: 1.952361\n",
      "\n",
      "Training set: Accuracy: 19016/50000 (38%)\n",
      "Test set: Accuracy: 4187/10000 (42%)\n",
      "\n",
      "Train Epoch: 16 [0/50000 (0%)]\tLoss: 1.816602\n",
      "Train Epoch: 16 [16000/50000 (32%)]\tLoss: 1.742451\n",
      "Train Epoch: 16 [32000/50000 (64%)]\tLoss: 1.742005\n",
      "Train Epoch: 16 [48000/50000 (96%)]\tLoss: 1.879906\n",
      "\n",
      "Training set: Accuracy: 19174/50000 (38%)\n",
      "Test set: Accuracy: 4231/10000 (42%)\n",
      "\n",
      "Train Epoch: 17 [0/50000 (0%)]\tLoss: 1.880751\n",
      "Train Epoch: 17 [16000/50000 (32%)]\tLoss: 1.734057\n",
      "Train Epoch: 17 [32000/50000 (64%)]\tLoss: 1.790668\n",
      "Train Epoch: 17 [48000/50000 (96%)]\tLoss: 1.929409\n",
      "\n",
      "Training set: Accuracy: 19047/50000 (38%)\n",
      "Test set: Accuracy: 4230/10000 (42%)\n",
      "\n",
      "Train Epoch: 18 [0/50000 (0%)]\tLoss: 1.760010\n",
      "Train Epoch: 18 [16000/50000 (32%)]\tLoss: 1.673455\n",
      "Train Epoch: 18 [32000/50000 (64%)]\tLoss: 1.813552\n",
      "Train Epoch: 18 [48000/50000 (96%)]\tLoss: 1.820372\n",
      "\n",
      "Training set: Accuracy: 19235/50000 (38%)\n",
      "Test set: Accuracy: 4269/10000 (43%)\n",
      "\n",
      "Train Epoch: 19 [0/50000 (0%)]\tLoss: 1.905305\n",
      "Train Epoch: 19 [16000/50000 (32%)]\tLoss: 1.928113\n",
      "Train Epoch: 19 [32000/50000 (64%)]\tLoss: 1.785528\n",
      "Train Epoch: 19 [48000/50000 (96%)]\tLoss: 1.877928\n",
      "\n",
      "Training set: Accuracy: 19541/50000 (39%)\n",
      "Test set: Accuracy: 4278/10000 (43%)\n",
      "\n"
     ]
    }
   ],
   "source": [
    "network2 = Model_2()\n",
    "rlt_const2 = training(network2, 0.002)"
   ]
  },
  {
   "cell_type": "markdown",
   "id": "5480845d",
   "metadata": {},
   "source": [
    "# 8.학습 결과 보기 \n",
    "## loss와 Accuracy 값 비교"
   ]
  },
  {
   "cell_type": "code",
   "execution_count": 15,
   "id": "8d65ae99",
   "metadata": {},
   "outputs": [],
   "source": [
    "def show_rlt(rlt,title):\n",
    "    fig = plt.figure(figsize=(15,5))\n",
    "\n",
    "    fig.suptitle(title)\n",
    "    ax1 = fig.add_subplot(121)\n",
    "    ax2 = fig.add_subplot(122)\n",
    "\n",
    "    x = np.arange(1,21)\n",
    "  \n",
    "    ax1.plot(x,rlt[0], x,rlt[1])\n",
    "    ax1.legend(['training', 'test'])\n",
    "    ax1.set_xlabel('Epoches --->')\n",
    "    ax1.set_ylabel('Loss --->')\n",
    "    ax1.set_xlim([0,21])\n",
    "    \n",
    "    ax2.plot(x,rlt[2],x,rlt[3])\n",
    "    ax2.legend(['training', 'test'])\n",
    "    ax2.set_xlabel('Epoches --->')\n",
    "    ax2.set_ylabel('Accuracy --->')\n",
    "    ax2.set_xlim([0,21])\n",
    "\n",
    "    plt.show()"
   ]
  },
  {
   "cell_type": "code",
   "execution_count": 16,
   "id": "a9308ece",
   "metadata": {},
   "outputs": [
    {
     "data": {
      "image/png": "[encoded data removed]",
      "text/plain": [
       "<Figure size 1500x500 with 2 Axes>"
      ]
     },
     "metadata": {},
     "output_type": "display_data"
    }
   ],
   "source": [
    "show_rlt(rlt_const, 'Batch_Normalization_2018125034')"
   ]
  },
  {
   "cell_type": "code",
   "execution_count": 17,
   "id": "566d0de1",
   "metadata": {},
   "outputs": [
    {
     "data": {
      "image/png": "[encoded data removed]",
      "text/plain": [
       "<Figure size 1500x500 with 2 Axes>"
      ]
     },
     "metadata": {},
     "output_type": "display_data"
    }
   ],
   "source": [
    "show_rlt(rlt_const2, 'Dropout_2018125034')"
   ]
  },
  {
   "cell_type": "markdown",
   "id": "fd1beff5",
   "metadata": {},
   "source": [
    "# 9. Hyperparameter 찾기\n",
    "\n",
    "위 Dropout 모델의 최적의 learning rate를 찾으세요.\n",
    "\n",
    "스스로 계획을 짜고 어떤 lr 이 가장 나은 성능을 내었는지 분석하세요."
   ]
  },
  {
   "cell_type": "markdown",
   "id": "fdf1c678",
   "metadata": {},
   "source": [
    "Random search 기법을 이용\n",
    "0. lr의 범위는 0.00001 ~ 0.01로 설정\n",
    "1. 범위 안에서 무작위로 추출 => 0.00005, 0.0001, 0.0003, 0.001, 0.006, 0.01 ...\n",
    "2. 각각의 lr로 학습을 진행\n",
    "3. 1&2단계를 반복한 결과, 발견한 최적의 lr은 0.003이다.\n",
    "\n",
    "lr이 0.00005인 경우,loss도 감소하고 accuracy도 서서히 증가하였다.\n",
    "lr이 0.0001인 경우, loss도 감소하고 accuracy도 서서히 증가하였다. 하지만 20epoch만으론 batch_normalization을 적용한 모델에 비해 성능이 부족하였다.<br>\n",
    "lr이 0.0003인 경우, lr이 0.0001일 때보다 loss가 더 감소하고, accuracy도 더 증가했지만 bn을 적용한 모델에는 역시 미치지 못하였다.<br>\n",
    "lr이 0.001인 경우, lr이 0.0003일 때보다 loss가 더 감소하고, accuracy도 더 증가하였다.<br>\n",
    "lr이 0.006인 경우, lr이 0.001일 때보다 test loss, train loss 그리고 test accuracy와 train accuracy간 간격이 더 벌어졌다. overfitting 문제가 발생할 수 있다.<br>\n",
    "lr이 0.01인 경우, test loss가 감소하고 test accuracy는 증가했지만, train loss와 train accuracy간 간격이 더 넓어졌다. <br>\n",
    "\n",
    "위 결과를 종합해본 바, 현재 과제에서 Dropout을 적용한 모델의 최적의 lr은 0.003이라고 생각한다. 0.003보다 커질 경우 test 정확도와 train 정확도의 차이가 점점 커졌으며, 0.003보다 작을 경우 test 정확도와 train 정확도간 차이가 0.003일 때와 비교했을 때 유의미하지 않고 성능은 0.003에 비해 낮음을 확인하였기 때문에 최적의 lr을 0.003이라고 생각한다."
   ]
  }
 ],
 "metadata": {
  "kernelspec": {
   "display_name": "Python 3 (ipykernel)",
   "language": "python",
   "name": "python3"
  },
  "language_info": {
   "codemirror_mode": {
    "name": "ipython",
    "version": 3
   },
   "file_extension": ".py",
   "mimetype": "text/x-python",
   "name": "python",
   "nbconvert_exporter": "python",
   "pygments_lexer": "ipython3",
   "version": "3.7.16"
  }
 },
 "nbformat": 4,
 "nbformat_minor": 5
}
